{
 "cells": [
  {
   "cell_type": "markdown",
   "metadata": {},
   "source": [
    "# How to Solve Sudoku with PuLP \n",
    "Optimization problem based on graph coloring solving a 3x3 Sudoku puzzle. "
   ]
  },
  {
   "cell_type": "markdown",
   "metadata": {},
   "source": [
    "First, let's talk about a little about Graph Coloring Problem. Essentially what it a graph is a collection of nodes with their associated edges. It could a directed or undirected graph (in this case, directionality of nodes are irrelevant, hence a Sudoku problem is an `undirected graph coloring problem`).\n",
    "\n",
    "So, in order to model this as an optimization problem, we have to allocate the two most important ingredients of a graph (nodes and edges) in the context of Sudoku.\n",
    "- In this case, there are a total of 9 numbers we can use to fill out the Sudoku cells. Hence the amoount *\"colors\"* we have in this case is exactly 9.\n",
    "- Every cell in Sudoku is a **node**. For this problem, I modeled \n",
    "\n",
    "- Edges are relationships between nodes. In the case of Sudoku, we have to model the relationship of column-wise nodes, row-wise nodes and box-wise nodes in order to observe the rules of Sudoku. So, in essence, an edge in this case is a pair-wise relationship between nodes."
   ]
  },
  {
   "cell_type": "markdown",
   "metadata": {},
   "source": [
    "**Let's set up the optimisation problem.**<br>"
   ]
  },
  {
   "cell_type": "markdown",
   "metadata": {},
   "source": [
    "_**Objective function:** $$\\min \\sum_{k} y_{k}$$<br>\n",
    "To minimize the amount of colors used. But due to the fact that we know exactly that we need 9 \"colors\" to color our Sudoku, this equation is redundant._"
   ]
  },
  {
   "cell_type": "markdown",
   "metadata": {},
   "source": [
    "_**Constraint 1:**_ $$\\sum_{k} x_{i k}=1, \\quad \\forall i=[1,2,3 \\dots 81]$$ <br>\n",
    "\n",
    "\n",
    "_"
   ]
  },
  {
   "cell_type": "code",
   "execution_count": null,
   "metadata": {},
   "outputs": [],
   "source": []
  },
  {
   "cell_type": "code",
   "execution_count": null,
   "metadata": {},
   "outputs": [],
   "source": []
  },
  {
   "cell_type": "code",
   "execution_count": null,
   "metadata": {},
   "outputs": [],
   "source": []
  },
  {
   "cell_type": "code",
   "execution_count": null,
   "metadata": {},
   "outputs": [],
   "source": []
  },
  {
   "cell_type": "code",
   "execution_count": null,
   "metadata": {},
   "outputs": [],
   "source": []
  },
  {
   "cell_type": "code",
   "execution_count": null,
   "metadata": {},
   "outputs": [],
   "source": []
  },
  {
   "cell_type": "code",
   "execution_count": null,
   "metadata": {},
   "outputs": [],
   "source": []
  },
  {
   "cell_type": "markdown",
   "metadata": {},
   "source": [
    "Functions to aid in adding edges to the nodes:<br>"
   ]
  },
  {
   "cell_type": "code",
   "execution_count": 3,
   "metadata": {
    "code_folding": [
     0,
     12,
     26
    ]
   },
   "outputs": [],
   "source": [
    "# This function creates pairs of relationships (edges) for every \n",
    "def edge_in_box(top_left_node, cube_length):\n",
    "    ed=[]\n",
    "    x1=[a for a in range(top_left_node,top_left_node+cube_length)]\n",
    "    x2 = [a+cube_length**2 for a in range(top_left_node,top_left_node+cube_length)]\n",
    "    x3 = [a+2*cube_length**2 for a in range(top_left_node,top_left_node+cube_length)]\n",
    "    full = x1 + x2 +x3    \n",
    "    for a in full:\n",
    "        for b in full:\n",
    "            if a!=b:\n",
    "                ed.append(tuple(sorted([a,b])))\n",
    "    return(ed)\n",
    "\n",
    "def edge_in_row(node_num,cube_length):    \n",
    "    ed=[]\n",
    "    full=[]\n",
    "    x=int((node_num-0.1)//cube_length**2)\n",
    "    start=(x*(cube_length**2)+1)\n",
    "    end=(x*(cube_length**2)+1)+cube_length**2 \n",
    "    for a in range(start,end):\n",
    "        full.append(a)\n",
    "    for a in full:\n",
    "        for b in full:\n",
    "            if a!=b:\n",
    "                ed.append(tuple(sorted([a,b])))\n",
    "    return(ed)   \n",
    "\n",
    "def edge_in_col(node_num,cube_length):    \n",
    "    ed=[]\n",
    "    full=[]\n",
    "    start = node_num%cube_length**2 \n",
    "    end = cube_length**4 + 1\n",
    "    step = cube_length**2\n",
    "    if start == 0:\n",
    "        start = 9   \n",
    "    for x in range(start,end,step):\n",
    "        full.append(x)\n",
    "    for a in full:\n",
    "        for b in full:\n",
    "            if a!=b:\n",
    "                ed.append(tuple(sorted([a,b])))\n",
    "    return(ed)    "
   ]
  },
  {
   "cell_type": "markdown",
   "metadata": {},
   "source": [
    "Additional functions to aid in solution presentation:"
   ]
  },
  {
   "cell_type": "code",
   "execution_count": 4,
   "metadata": {},
   "outputs": [],
   "source": [
    "inf = 1e70\n",
    "fmt = \"{:3.0f}\"\n",
    "def is_valid(x):\n",
    "    return x is not None and x > -inf and x < inf\n",
    "def to_print(name, x, short, extra=\"\"):\n",
    "    if is_valid(x) and (not short or x != 0):\n",
    "        print(name, fmt.format(x), \"\" if short else extra)\n",
    "def print_sol(mod, short=True):\n",
    "    print(\"Objective:\", pulp.value(mod.objective))\n",
    "    for (vname, v) in sorted(mod.variablesDict().items()):\n",
    "        to_print(vname, v.value(), short)    "
   ]
  },
  {
   "cell_type": "code",
   "execution_count": 5,
   "metadata": {},
   "outputs": [],
   "source": [
    "import numpy as np\n",
    "from pulp import *\n",
    "\n",
    "## make the \"edge\" list for Sudoku 3x3, each element in list is a tuple\n",
    "cube_length = 3      ## TO CHANGE!!!!\n",
    "list_top_left_node = [1,4,7,28,31,34,55,58,61] ## TO CHANGE!!!!\n",
    "\n",
    "edge=[]\n",
    "for top_left_node in list_top_left_node:\n",
    "    edge.extend(edge_in_box(top_left_node, cube_length))\n",
    "for node_num in range(1,1+cube_length**4):\n",
    "    edge.extend(edge_in_row(node_num,cube_length))\n",
    "    edge.extend(edge_in_col(node_num,cube_length))  \n",
    "edge = list(set(edge))   "
   ]
  },
  {
   "cell_type": "code",
   "execution_count": 6,
   "metadata": {},
   "outputs": [],
   "source": [
    "# A list of strings from \"1\" to \"9\" is created\n",
    "seq_value = [\"1\", \"2\", \"3\", \"4\", \"5\", \"6\", \"7\", \"8\", \"9\"] \n",
    "     \n",
    "nodes = range(1,1+cube_length**4)\n",
    "node_temp = []\n",
    "node_temp=[node_temp.append(str(x)) for x in nodes]\n",
    "colors = seq_value"
   ]
  },
  {
   "cell_type": "code",
   "execution_count": 7,
   "metadata": {},
   "outputs": [],
   "source": [
    "# The sudoku3x3 problem is initialised\n",
    "sudoku3x3 = LpProblem(\"Sudoku 3x3 Problem\", LpMinimize) \n",
    "\n",
    "# The variables are created\n",
    "x = LpVariable.dicts(\"x\",(colors,nodes),0,1,LpInteger)    \n",
    "y = LpVariable.dicts(\"y\",colors,0,1,LpInteger)    \n",
    "\n",
    "# OBJECTIVE FUNCTION\n",
    "sudoku3x3 += sum(y[k] for k in colors) \n",
    " \n",
    "\n",
    "## Constraint 1: One cell can only have one value\n",
    "for i in nodes:\n",
    "        sudoku3x3 += sum([x[k][i] for k in colors]) == 1\n",
    "\n",
    "# Constraint 2: Color k must exist before node i can be assigned color k.\n",
    "### y_k >= x_ik \n",
    "for k in colors:\n",
    "    for i in nodes:\n",
    "        sudoku3x3 += y[k] >= x[k][i]\n",
    "\n",
    "# Constraint 3: Nodes i and j (connected by edge) cannot have the same colour k\n",
    "for k in colors:\n",
    "    for (i,j) in edge:\n",
    "        sudoku3x3 += x[k][i]+x[k][j] <= 1 "
   ]
  },
  {
   "cell_type": "code",
   "execution_count": 8,
   "metadata": {},
   "outputs": [],
   "source": [
    "sudoku3x3 += x[\"6\"][1] == 1\n",
    "sudoku3x3 += x[\"9\"][10] == 1\n",
    "sudoku3x3 += x[\"2\"][28] == 1\n",
    "sudoku3x3 += x[\"8\"][73] == 1\n",
    "sudoku3x3 += x[\"8\"][47] == 1\n",
    "sudoku3x3 += x[\"9\"][48] == 1\n",
    "sudoku3x3 += x[\"7\"][20] == 1\n",
    "sudoku3x3 += x[\"8\"][6] == 1\n",
    "sudoku3x3 += x[\"9\"][7] == 1\n",
    "sudoku3x3 += x[\"4\"][8] == 1\n",
    "sudoku3x3 += x[\"6\"][15] == 1\n",
    "sudoku3x3 += x[\"1\"][16] == 1\n",
    "sudoku3x3 += x[\"4\"][23] == 1\n",
    "sudoku3x3 += x[\"6\"][31] == 1\n",
    "sudoku3x3 += x[\"1\"][32] == 1\n",
    "sudoku3x3 += x[\"2\"][43] == 1\n",
    "sudoku3x3 += x[\"2\"][51] == 1\n",
    "sudoku3x3 += x[\"6\"][59] == 1\n",
    "sudoku3x3 += x[\"5\"][63] == 1\n",
    "sudoku3x3 += x[\"3\"][71] == 1\n",
    "sudoku3x3 += x[\"6\"][79] == 1\n",
    "sudoku3x3 += x[\"1\"][78] == 1"
   ]
  },
  {
   "cell_type": "code",
   "execution_count": 9,
   "metadata": {},
   "outputs": [
    {
     "name": "stdout",
     "output_type": "stream",
     "text": [
      "1\n",
      "Objective: 9.0\n",
      "x_1_16   1 \n",
      "x_1_21   1 \n",
      "x_1_32   1 \n",
      "x_1_4   1 \n",
      "x_1_45   1 \n",
      "x_1_46   1 \n",
      "x_1_62   1 \n",
      "x_1_65   1 \n",
      "x_1_78   1 \n",
      "x_2_14   1 \n",
      "x_2_2   1 \n",
      "x_2_27   1 \n",
      "x_2_28   1 \n",
      "x_2_43   1 \n",
      "x_2_51   1 \n",
      "x_2_57   1 \n",
      "x_2_67   1 \n",
      "x_2_80   1 \n",
      "x_3_13   1 \n",
      "x_3_19   1 \n",
      "x_3_34   1 \n",
      "x_3_39   1 \n",
      "x_3_50   1 \n",
      "x_3_60   1 \n",
      "x_3_71   1 \n",
      "x_3_74   1 \n",
      "x_3_9   1 \n",
      "x_4_11   1 \n",
      "x_4_23   1 \n",
      "x_4_36   1 \n",
      "x_4_37   1 \n",
      "x_4_49   1 \n",
      "x_4_61   1 \n",
      "x_4_69   1 \n",
      "x_4_75   1 \n",
      "x_4_8   1 \n",
      "x_5_17   1 \n",
      "x_5_24   1 \n",
      "x_5_29   1 \n",
      "x_5_3   1 \n",
      "x_5_40   1 \n",
      "x_5_52   1 \n",
      "x_5_63   1 \n",
      "x_5_64   1 \n",
      "x_5_77   1 \n",
      "x_6_1   1 \n",
      "x_6_15   1 \n",
      "x_6_26   1 \n",
      "x_6_31   1 \n",
      "x_6_38   1 \n",
      "x_6_54   1 \n",
      "x_6_59   1 \n",
      "x_6_66   1 \n",
      "x_6_79   1 \n",
      "x_7_18   1 \n",
      "x_7_20   1 \n",
      "x_7_30   1 \n",
      "x_7_42   1 \n",
      "x_7_5   1 \n",
      "x_7_53   1 \n",
      "x_7_55   1 \n",
      "x_7_70   1 \n",
      "x_7_76   1 \n",
      "x_8_12   1 \n",
      "x_8_25   1 \n",
      "x_8_35   1 \n",
      "x_8_41   1 \n",
      "x_8_47   1 \n",
      "x_8_58   1 \n",
      "x_8_6   1 \n",
      "x_8_72   1 \n",
      "x_8_73   1 \n",
      "x_9_10   1 \n",
      "x_9_22   1 \n",
      "x_9_33   1 \n",
      "x_9_44   1 \n",
      "x_9_48   1 \n",
      "x_9_56   1 \n",
      "x_9_68   1 \n",
      "x_9_7   1 \n",
      "x_9_81   1 \n",
      "y_1   1 \n",
      "y_2   1 \n",
      "y_3   1 \n",
      "y_4   1 \n",
      "y_5   1 \n",
      "y_6   1 \n",
      "y_7   1 \n",
      "y_8   1 \n",
      "y_9   1 \n"
     ]
    }
   ],
   "source": [
    "print(sudoku3x3.solve())\n",
    "pulp.LpStatus[sudoku3x3.status]\n",
    "print_sol(sudoku3x3)"
   ]
  },
  {
   "cell_type": "code",
   "execution_count": null,
   "metadata": {},
   "outputs": [],
   "source": []
  }
 ],
 "metadata": {
  "kernelspec": {
   "display_name": "Python 3",
   "language": "python",
   "name": "python3"
  },
  "language_info": {
   "codemirror_mode": {
    "name": "ipython",
    "version": 3
   },
   "file_extension": ".py",
   "mimetype": "text/x-python",
   "name": "python",
   "nbconvert_exporter": "python",
   "pygments_lexer": "ipython3",
   "version": "3.6.8"
  },
  "latex_envs": {
   "LaTeX_envs_menu_present": true,
   "autoclose": false,
   "autocomplete": true,
   "bibliofile": "biblio.bib",
   "cite_by": "apalike",
   "current_citInitial": 1,
   "eqLabelWithNumbers": true,
   "eqNumInitial": 1,
   "hotkeys": {
    "equation": "Ctrl-E",
    "itemize": "Ctrl-I"
   },
   "labels_anchors": false,
   "latex_user_defs": false,
   "report_style_numbering": false,
   "user_envs_cfg": false
  },
  "toc": {
   "base_numbering": 1,
   "nav_menu": {},
   "number_sections": true,
   "sideBar": false,
   "skip_h1_title": false,
   "title_cell": "Table of Contents",
   "title_sidebar": "Contents",
   "toc_cell": false,
   "toc_position": {},
   "toc_section_display": false,
   "toc_window_display": true
  },
  "varInspector": {
   "cols": {
    "lenName": 16,
    "lenType": 16,
    "lenVar": 40
   },
   "kernels_config": {
    "python": {
     "delete_cmd_postfix": "",
     "delete_cmd_prefix": "del ",
     "library": "var_list.py",
     "varRefreshCmd": "print(var_dic_list())"
    },
    "r": {
     "delete_cmd_postfix": ") ",
     "delete_cmd_prefix": "rm(",
     "library": "var_list.r",
     "varRefreshCmd": "cat(var_dic_list()) "
    }
   },
   "types_to_exclude": [
    "module",
    "function",
    "builtin_function_or_method",
    "instance",
    "_Feature"
   ],
   "window_display": false
  }
 },
 "nbformat": 4,
 "nbformat_minor": 2
}
